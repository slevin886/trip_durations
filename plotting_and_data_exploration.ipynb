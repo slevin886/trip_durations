{
 "cells": [
  {
   "cell_type": "code",
   "execution_count": 1,
   "metadata": {},
   "outputs": [],
   "source": [
    "import pandas as pd\n",
    "from pandas.tseries.holiday import USFederalHolidayCalendar\n",
    "import plotly as py\n",
    "import plotly.graph_objs as go\n",
    "import numpy as np\n",
    "import re \n",
    "import datetime\n",
    "\n",
    "%matplotlib inline"
   ]
  },
  {
   "cell_type": "code",
   "execution_count": 55,
   "metadata": {},
   "outputs": [],
   "source": [
    "df = pd.read_csv('./commute_info.csv')\n",
    "#Making EST and rounding off seconds\n",
    "df['time'] = pd.to_datetime(df['time']) - pd.Timedelta(5, unit='h')\n",
    "df['time'] = df.time.dt.round('1min')\n",
    "#Readjusting for daylight savings time\n",
    "daylight = (df['time'] < datetime.date(2018, 11, 4))\n",
    "df.loc[daylight, 'time'] = df.loc[daylight, 'time'] + pd.Timedelta(1, unit='h')\n",
    "df['date'] = df.time.dt.date\n",
    "#Eliminating incomplete day\n",
    "df = df.drop(df.loc[df['date'] == datetime.date(2018, 10, 31)].index).reset_index(drop=True)\n",
    "#Eliminating pre 6am departures\n",
    "df['hour'] = df.time.dt.time\n",
    "df = df.drop(df.loc[df['hour'] < datetime.time(6)].index).reset_index(drop=True)"
   ]
  },
  {
   "cell_type": "code",
   "execution_count": 17,
   "metadata": {},
   "outputs": [],
   "source": [
    "#to eliminate traffic counts on holidays\n",
    "cal = USFederalHolidayCalendar()\n",
    "holidays = cal.holidays('2018', '2020')\n",
    "df = df.drop(df.loc[df['date'].isin(holidays)].index).reset_index(drop=True)"
   ]
  },
  {
   "cell_type": "code",
   "execution_count": 56,
   "metadata": {
    "collapsed": true
   },
   "outputs": [],
   "source": [
    "def duration_clean(mins):\n",
    "    \"\"\"Eliminates text from duration descriptions and corrects hours to minutes\"\"\"\n",
    "    if 'h' in mins:\n",
    "        vals = re.findall(r'\\d+', mins)\n",
    "        return int(vals[0]) * 60 + int(vals[1])\n",
    "    else:\n",
    "        return int(re.search(r'\\d+', mins).group())\n",
    "    \n",
    "df['duration_in_traffic'] = df['duration_in_traffic'].apply(duration_clean)"
   ]
  },
  {
   "cell_type": "code",
   "execution_count": 57,
   "metadata": {
    "collapsed": true
   },
   "outputs": [],
   "source": [
    "df['is_morning'] = df.time.apply(lambda x: 1 if x.hour < 11 else 0)\n",
    "df['is_weekday'] = df.time.apply(lambda x: 1 if x.dayofweek < 5 else 0)"
   ]
  },
  {
   "cell_type": "code",
   "execution_count": 58,
   "metadata": {
    "collapsed": true
   },
   "outputs": [],
   "source": [
    "morning = df.loc[df['is_morning'] == 1].copy()\n",
    "#Adjusting morning until 10am data is collected\n",
    "morning = morning.loc[morning['hour'] < datetime.time(9)].copy()\n",
    "evening = df.loc[df['is_morning'] == 0].copy()"
   ]
  },
  {
   "cell_type": "markdown",
   "metadata": {},
   "source": [
    "# Morning Commute Plot"
   ]
  },
  {
   "cell_type": "code",
   "execution_count": 59,
   "metadata": {},
   "outputs": [
    {
     "data": {
      "text/plain": [
       "'file:///Users/slevin886/Desktop/DataProjects/trip_duration/commute_times.html'"
      ]
     },
     "execution_count": 59,
     "metadata": {},
     "output_type": "execute_result"
    }
   ],
   "source": [
    "dates = list(morning['date'].unique())\n",
    "traces = []\n",
    "\n",
    "for date in dates:\n",
    "    morn = morning.loc[morning['date'] == date].copy()\n",
    "    color = 'blue'\n",
    "    if morn['is_weekday'].max() == 0:\n",
    "        color = 'red'\n",
    "    trace0 = go.Scatter(x=morn['hour'], \n",
    "                        y=morn['duration_in_traffic'], \n",
    "                        name=str(date), \n",
    "                        showlegend=False,\n",
    "                        line=dict(color=color, dash='dash'),\n",
    "                        opacity=0.3)\n",
    "    traces.append(trace0)\n",
    "\n",
    "week_morn = morning.loc[morning['is_weekday'] == 1].groupby('hour', as_index=False)['duration_in_traffic'].mean()\n",
    "\n",
    "trace1 = go.Scatter(x=week_morn['hour'], \n",
    "                    y=week_morn['duration_in_traffic'], \n",
    "                    name=\"Mean Weekday Duration\", \n",
    "                    showlegend=True,\n",
    "                    line=dict(color='blue',dash='dashdot', width=4.5))  \n",
    "\n",
    "traces.append(trace1)\n",
    "\n",
    "end_morn = morning.loc[morning['is_weekday'] == 0].groupby('hour', as_index=False)['duration_in_traffic'].mean()\n",
    "\n",
    "trace2 = go.Scatter(x=end_morn['hour'], \n",
    "                    y=end_morn['duration_in_traffic'], \n",
    "                    name=\"Mean Weekend Duration\", \n",
    "                    showlegend=True,\n",
    "                    line=dict(color='red',dash='dashdot', width=4.5))  \n",
    "\n",
    "traces.append(trace2)\n",
    "\n",
    "data = traces\n",
    "\n",
    "layout = go.Layout(title=\"My Morning Commute (<i>Boston to Bedford</i>)\",\n",
    "                   xaxis=dict(title='Time (EST)'), \n",
    "                   yaxis=dict(title='Duration of Trip (Minutes)',\n",
    "                              range=[0, 70]))\n",
    "\n",
    "fig = go.Figure(data=data, layout=layout)\n",
    "\n",
    "py.offline.plot(fig, filename='commute_times.html')"
   ]
  }
 ],
 "metadata": {
  "kernelspec": {
   "display_name": "Python 2",
   "language": "python",
   "name": "python2"
  },
  "language_info": {
   "codemirror_mode": {
    "name": "ipython",
    "version": 2
   },
   "file_extension": ".py",
   "mimetype": "text/x-python",
   "name": "python",
   "nbconvert_exporter": "python",
   "pygments_lexer": "ipython2",
   "version": "2.7.14"
  }
 },
 "nbformat": 4,
 "nbformat_minor": 2
}
