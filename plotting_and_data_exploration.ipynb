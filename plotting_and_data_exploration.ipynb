{
 "cells": [
  {
   "cell_type": "code",
   "execution_count": 176,
   "metadata": {
    "collapsed": true
   },
   "outputs": [],
   "source": [
    "import pandas as pd\n",
    "import plotly as py\n",
    "import plotly.graph_objs as go\n",
    "import re \n",
    "import datetime\n",
    "\n",
    "%matplotlib inline"
   ]
  },
  {
   "cell_type": "markdown",
   "metadata": {},
   "source": [
    "# TODO \n",
    "\n",
    "* Only use complete days, eliminate first day possibly"
   ]
  },
  {
   "cell_type": "code",
   "execution_count": 177,
   "metadata": {
    "collapsed": true
   },
   "outputs": [],
   "source": [
    "df = pd.read_csv('./commute_info.csv')\n",
    "\n",
    "#manipulations\n",
    "df['time'] = pd.to_datetime(df['time'])\n",
    "#Making EST\n",
    "df['time'] = df['time'] - pd.Timedelta(4, unit='h')\n",
    "df['time'] = df.time.dt.round('1min')\n",
    "df['date'] = df.time.dt.date\n",
    "df = df.drop(df.loc[df['date'] == datetime.date(2018, 10, 31)].index).reset_index(drop=True)"
   ]
  },
  {
   "cell_type": "code",
   "execution_count": 178,
   "metadata": {
    "collapsed": true
   },
   "outputs": [],
   "source": [
    "def duration_clean(mins):\n",
    "    if 'h' in mins:\n",
    "        vals = re.findall(r'\\d+', mins)\n",
    "        return int(vals[0]) * 60 + int(vals[1])\n",
    "    else:\n",
    "        return int(re.search(r'\\d+', mins).group())\n",
    "    \n",
    "df['trip_length'] = df['duration_in_traffic'].apply(duration_clean)"
   ]
  },
  {
   "cell_type": "code",
   "execution_count": 179,
   "metadata": {},
   "outputs": [],
   "source": [
    "def morning(time):\n",
    "    if time.hour < 11:\n",
    "        return 1\n",
    "    else:\n",
    "        return 0\n",
    "    \n",
    "df['is_morning'] = df.time.apply(morning)\n",
    "df['hour'] = df.time.dt.time\n",
    "df['is_weekday'] = df.time.apply(lambda x: 1 if x.dayofweek < 5 else 0)"
   ]
  },
  {
   "cell_type": "code",
   "execution_count": 180,
   "metadata": {
    "collapsed": true
   },
   "outputs": [],
   "source": [
    "morning = df.loc[df['is_morning'] == 1].copy()\n",
    "evening = df.loc[df['is_morning'] == 0].copy()"
   ]
  },
  {
   "cell_type": "code",
   "execution_count": 181,
   "metadata": {},
   "outputs": [
    {
     "data": {
      "text/plain": [
       "'file:///Users/slevin886/Desktop/DataProjects/trip_duration/commute_times.html'"
      ]
     },
     "execution_count": 181,
     "metadata": {},
     "output_type": "execute_result"
    }
   ],
   "source": [
    "dates = list(morning['date'].unique())\n",
    "traces = []\n",
    "\n",
    "for date in dates:\n",
    "    morn = morning.loc[morning['date'] == date].copy()\n",
    "    color = 'blue'\n",
    "    if morn['is_weekday'].max() == 0:\n",
    "        color = 'red'\n",
    "    trace0 = go.Scatter(x=morn['hour'], \n",
    "                        y=morn['trip_length'], \n",
    "                        name=str(date), \n",
    "                        showlegend=False,\n",
    "                        line=dict(color=color))\n",
    "    traces.append(trace0)\n",
    "    \n",
    "data = traces\n",
    "\n",
    "layout = go.Layout(xaxis=dict(title='Time (EST)'), \n",
    "                   yaxis=dict(title='Duration of Trip (Minutes)',\n",
    "                              range=[0, 70]))\n",
    "\n",
    "fig = go.Figure(data=data, layout=layout)\n",
    "\n",
    "py.offline.plot(fig, filename='commute_times.html')"
   ]
  },
  {
   "cell_type": "code",
   "execution_count": 183,
   "metadata": {},
   "outputs": [
    {
     "data": {
      "text/plain": [
       "'file:///Users/slevin886/Desktop/DataProjects/trip_duration/commute_times.html'"
      ]
     },
     "execution_count": 183,
     "metadata": {},
     "output_type": "execute_result"
    }
   ],
   "source": [
    "dates = list(evening['date'].unique())\n",
    "traces = []\n",
    "\n",
    "for date in dates:\n",
    "    morn = evening.loc[evening['date'] == date].copy()\n",
    "    color = 'blue'\n",
    "    if morn['is_weekday'].max() == 0:\n",
    "        color = 'red'\n",
    "    trace0 = go.Scatter(x=morn['hour'], \n",
    "                        y=morn['trip_length'], \n",
    "                        name=str(date), \n",
    "                        showlegend=False,\n",
    "                        line=dict(color=color))\n",
    "    traces.append(trace0)\n",
    "    \n",
    "data = traces\n",
    "\n",
    "layout = go.Layout(xaxis=dict(title='Time (EST)'), \n",
    "                   yaxis=dict(title='Duration of Trip (Minutes)',\n",
    "                              range=[0, 70]))\n",
    "\n",
    "fig = go.Figure(data=data, layout=layout)\n",
    "\n",
    "py.offline.plot(fig, filename='commute_times.html')"
   ]
  }
 ],
 "metadata": {
  "kernelspec": {
   "display_name": "Python 3",
   "language": "python",
   "name": "python3"
  },
  "language_info": {
   "codemirror_mode": {
    "name": "ipython",
    "version": 3
   },
   "file_extension": ".py",
   "mimetype": "text/x-python",
   "name": "python",
   "nbconvert_exporter": "python",
   "pygments_lexer": "ipython3",
   "version": "3.6.4"
  }
 },
 "nbformat": 4,
 "nbformat_minor": 2
}
